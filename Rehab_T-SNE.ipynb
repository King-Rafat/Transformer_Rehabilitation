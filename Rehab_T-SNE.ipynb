{
 "cells": [
  {
   "cell_type": "code",
   "execution_count": 1,
   "id": "985c3f38",
   "metadata": {},
   "outputs": [],
   "source": [
    "from sklearn.manifold import TSNE\n",
    "import numpy as np\n",
    "import matplotlib.pyplot as plt\n",
    "import pandas as pd\n",
    "import seaborn as sns\n",
    "import torch"
   ]
  },
  {
   "cell_type": "code",
   "execution_count": 2,
   "id": "6fe9e1d5",
   "metadata": {},
   "outputs": [],
   "source": [
    "l5 = torch.load('y5_attention.pt')\n",
    "l4 = torch.load('y4_attention.pt')\n",
    "l3 = torch.load('y3_attention.pt')\n",
    "l2 = torch.load('y2_attention.pt')\n",
    "l1 = torch.load('y1_attention.pt')"
   ]
  },
  {
   "cell_type": "code",
   "execution_count": 3,
   "id": "0d1b3362",
   "metadata": {},
   "outputs": [
    {
     "name": "stderr",
     "output_type": "stream",
     "text": [
      "c:\\users\\acer\\appdata\\local\\programs\\python\\python39\\lib\\site-packages\\sklearn\\manifold\\_t_sne.py:795: FutureWarning: The default initialization in TSNE will change from 'random' to 'pca' in 1.2.\n",
      "  warnings.warn(\n",
      "c:\\users\\acer\\appdata\\local\\programs\\python\\python39\\lib\\site-packages\\sklearn\\manifold\\_t_sne.py:805: FutureWarning: The default learning rate in TSNE will change from 200.0 to 'auto' in 1.2.\n",
      "  warnings.warn(\n"
     ]
    }
   ],
   "source": [
    "a5 = torch.load('eX5_attention.pt')\n",
    "\n",
    "tsne = TSNE(n_components = 2, perplexity = 5, verbose = 0, random_state =42)\n",
    "tsne_result5 = tsne.fit_transform(a5)\n"
   ]
  },
  {
   "cell_type": "code",
   "execution_count": 4,
   "id": "e251c6d5",
   "metadata": {},
   "outputs": [],
   "source": [
    "del a5"
   ]
  },
  {
   "cell_type": "code",
   "execution_count": 5,
   "id": "3ea380c2",
   "metadata": {},
   "outputs": [
    {
     "name": "stderr",
     "output_type": "stream",
     "text": [
      "c:\\users\\acer\\appdata\\local\\programs\\python\\python39\\lib\\site-packages\\sklearn\\manifold\\_t_sne.py:795: FutureWarning: The default initialization in TSNE will change from 'random' to 'pca' in 1.2.\n",
      "  warnings.warn(\n",
      "c:\\users\\acer\\appdata\\local\\programs\\python\\python39\\lib\\site-packages\\sklearn\\manifold\\_t_sne.py:805: FutureWarning: The default learning rate in TSNE will change from 200.0 to 'auto' in 1.2.\n",
      "  warnings.warn(\n"
     ]
    }
   ],
   "source": [
    "a4 = torch.load('eX4_attention.pt')\n",
    "\n",
    "tsne = TSNE(n_components = 2, perplexity = 5, verbose = 0, random_state =42)\n",
    "tsne_result4 = tsne.fit_transform(a4)\n",
    "\n",
    "del a4"
   ]
  },
  {
   "cell_type": "code",
   "execution_count": 6,
   "id": "cd2ae0f7",
   "metadata": {},
   "outputs": [
    {
     "name": "stderr",
     "output_type": "stream",
     "text": [
      "c:\\users\\acer\\appdata\\local\\programs\\python\\python39\\lib\\site-packages\\sklearn\\manifold\\_t_sne.py:795: FutureWarning: The default initialization in TSNE will change from 'random' to 'pca' in 1.2.\n",
      "  warnings.warn(\n",
      "c:\\users\\acer\\appdata\\local\\programs\\python\\python39\\lib\\site-packages\\sklearn\\manifold\\_t_sne.py:805: FutureWarning: The default learning rate in TSNE will change from 200.0 to 'auto' in 1.2.\n",
      "  warnings.warn(\n"
     ]
    }
   ],
   "source": [
    "a3 = torch.load('eX3_attention.pt')\n",
    "\n",
    "tsne = TSNE(n_components = 2, perplexity = 5, verbose = 0, random_state =42)\n",
    "tsne_result3 = tsne.fit_transform(a3)\n",
    "\n",
    "del a3"
   ]
  },
  {
   "cell_type": "code",
   "execution_count": 7,
   "id": "2e4333c7",
   "metadata": {},
   "outputs": [
    {
     "name": "stderr",
     "output_type": "stream",
     "text": [
      "c:\\users\\acer\\appdata\\local\\programs\\python\\python39\\lib\\site-packages\\sklearn\\manifold\\_t_sne.py:795: FutureWarning: The default initialization in TSNE will change from 'random' to 'pca' in 1.2.\n",
      "  warnings.warn(\n",
      "c:\\users\\acer\\appdata\\local\\programs\\python\\python39\\lib\\site-packages\\sklearn\\manifold\\_t_sne.py:805: FutureWarning: The default learning rate in TSNE will change from 200.0 to 'auto' in 1.2.\n",
      "  warnings.warn(\n"
     ]
    }
   ],
   "source": [
    "a2 = torch.load('eX2_attention.pt')\n",
    "\n",
    "tsne = TSNE(n_components = 2, perplexity = 5, verbose = 0, random_state =42)\n",
    "tsne_result2 = tsne.fit_transform(a2)\n",
    "del a2"
   ]
  },
  {
   "cell_type": "code",
   "execution_count": 8,
   "id": "9e5408a8",
   "metadata": {},
   "outputs": [
    {
     "name": "stderr",
     "output_type": "stream",
     "text": [
      "c:\\users\\acer\\appdata\\local\\programs\\python\\python39\\lib\\site-packages\\sklearn\\manifold\\_t_sne.py:795: FutureWarning: The default initialization in TSNE will change from 'random' to 'pca' in 1.2.\n",
      "  warnings.warn(\n",
      "c:\\users\\acer\\appdata\\local\\programs\\python\\python39\\lib\\site-packages\\sklearn\\manifold\\_t_sne.py:805: FutureWarning: The default learning rate in TSNE will change from 200.0 to 'auto' in 1.2.\n",
      "  warnings.warn(\n"
     ]
    }
   ],
   "source": [
    "a1 = torch.load('eX1_attention.pt')\n",
    "tsne = TSNE(n_components = 2, perplexity = 5, verbose = 0, random_state =42)\n",
    "tsne_result1 = tsne.fit_transform(a1)\n",
    "del a1"
   ]
  },
  {
   "cell_type": "code",
   "execution_count": 11,
   "id": "92b29187",
   "metadata": {},
   "outputs": [
    {
     "name": "stderr",
     "output_type": "stream",
     "text": [
      "c:\\users\\acer\\appdata\\local\\programs\\python\\python39\\lib\\site-packages\\sklearn\\manifold\\_t_sne.py:795: FutureWarning: The default initialization in TSNE will change from 'random' to 'pca' in 1.2.\n",
      "  warnings.warn(\n",
      "c:\\users\\acer\\appdata\\local\\programs\\python\\python39\\lib\\site-packages\\sklearn\\manifold\\_t_sne.py:805: FutureWarning: The default learning rate in TSNE will change from 200.0 to 'auto' in 1.2.\n",
      "  warnings.warn(\n"
     ]
    },
    {
     "name": "stdout",
     "output_type": "stream",
     "text": [
      "(225, 2)\n"
     ]
    },
    {
     "name": "stderr",
     "output_type": "stream",
     "text": [
      "c:\\users\\acer\\appdata\\local\\programs\\python\\python39\\lib\\site-packages\\sklearn\\manifold\\_t_sne.py:795: FutureWarning: The default initialization in TSNE will change from 'random' to 'pca' in 1.2.\n",
      "  warnings.warn(\n",
      "c:\\users\\acer\\appdata\\local\\programs\\python\\python39\\lib\\site-packages\\sklearn\\manifold\\_t_sne.py:805: FutureWarning: The default learning rate in TSNE will change from 200.0 to 'auto' in 1.2.\n",
      "  warnings.warn(\n",
      "c:\\users\\acer\\appdata\\local\\programs\\python\\python39\\lib\\site-packages\\sklearn\\manifold\\_t_sne.py:795: FutureWarning: The default initialization in TSNE will change from 'random' to 'pca' in 1.2.\n",
      "  warnings.warn(\n",
      "c:\\users\\acer\\appdata\\local\\programs\\python\\python39\\lib\\site-packages\\sklearn\\manifold\\_t_sne.py:805: FutureWarning: The default learning rate in TSNE will change from 200.0 to 'auto' in 1.2.\n",
      "  warnings.warn(\n",
      "c:\\users\\acer\\appdata\\local\\programs\\python\\python39\\lib\\site-packages\\sklearn\\manifold\\_t_sne.py:795: FutureWarning: The default initialization in TSNE will change from 'random' to 'pca' in 1.2.\n",
      "  warnings.warn(\n",
      "c:\\users\\acer\\appdata\\local\\programs\\python\\python39\\lib\\site-packages\\sklearn\\manifold\\_t_sne.py:805: FutureWarning: The default learning rate in TSNE will change from 200.0 to 'auto' in 1.2.\n",
      "  warnings.warn(\n",
      "c:\\users\\acer\\appdata\\local\\programs\\python\\python39\\lib\\site-packages\\sklearn\\manifold\\_t_sne.py:795: FutureWarning: The default initialization in TSNE will change from 'random' to 'pca' in 1.2.\n",
      "  warnings.warn(\n",
      "c:\\users\\acer\\appdata\\local\\programs\\python\\python39\\lib\\site-packages\\sklearn\\manifold\\_t_sne.py:805: FutureWarning: The default learning rate in TSNE will change from 200.0 to 'auto' in 1.2.\n",
      "  warnings.warn(\n"
     ]
    },
    {
     "data": {
      "image/png": "[encoded data removed]",
      "text/plain": [
       "<Figure size 1440x720 with 10 Axes>"
      ]
     },
     "metadata": {
      "needs_background": "light"
     },
     "output_type": "display_data"
    }
   ],
   "source": [
    "#         tsne = TSNE(n_components = 2, perplexity = 30, verbose = 2, random_state =42)\n",
    "X5 = torch.load('eX5_different_layers.pt')\n",
    "labels5 = torch.load('y5_different_layers.pt')\n",
    "X4 = torch.load('eX4_different_layers.pt')\n",
    "labels4 = torch.load('y4_different_layers.pt')\n",
    "X3 = torch.load('eX3_different_layers.pt')\n",
    "labels3 = torch.load('y3_different_layers.pt')\n",
    "X2 = torch.load('eX2_different_layers.pt')\n",
    "labels2 = torch.load('y2_different_layers.pt')\n",
    "X1 = torch.load('eX1_different_layers.pt')\n",
    "labels1 = torch.load('y1_different_layers.pt')\n",
    "\n",
    "for i in range(len(labels1)):\n",
    "    if labels1[i] == 0:\n",
    "        labels1[i] = 'Point Aggregation'\n",
    "    elif labels1[i] == 1:\n",
    "        labels1[i] = 'Downsample'\n",
    "    elif labels1[i] == 2:\n",
    "        labels1[i] = 'Transformer 1'\n",
    "    elif labels1[i] == 3:\n",
    "        labels1[i] = 'Transformer 2'\n",
    "        \n",
    "        \n",
    "\n",
    "tsne = TSNE(n_components = 2, perplexity = 5, verbose = 0, random_state =42)\n",
    "tsne_result_5 = tsne.fit_transform(X5)\n",
    "print(tsne_result5.shape)\n",
    "\n",
    "tsne_result_df = pd.DataFrame({'tsne_1': tsne_result_5[:,0], 'tsne_2': tsne_result_5[:,1], 'label': labels5})\n",
    "fig, ax = plt.subplots(2,5, figsize= (20, 10))\n",
    "# fig.gca(projection='3d')\n",
    "\n",
    "s1 = sns.scatterplot(ax = ax[0][0], x='tsne_1', y='tsne_2', hue='label', data=tsne_result_df,s=60, palette=sns.color_palette(\"hls\", 4),)\n",
    "ax[0][0].set_xlim(-50,65)\n",
    "ax[0][0].set_ylim(-60,65)\n",
    "ax[0][0].set_title('Ex 5')\n",
    "s1.get_legend().remove()\n",
    "s1.set(xlabel=None)\n",
    "s1.set(ylabel=None)\n",
    "# s1.title('(a)', loc = 'center', fontsize = 15, fontname=\"Times New Roman\", fontweight='bold')\n",
    "\n",
    "tsne = TSNE(n_components = 2, perplexity = 5, verbose = 0, random_state =42)\n",
    "tsne_result_4 = tsne.fit_transform(X4)\n",
    "tsne_result_df = pd.DataFrame({'tsne_1': tsne_result_4[:,0], 'tsne_2': tsne_result_4[:,1], 'label': labels4})\n",
    "# fig, ax = plt.subplots(3,3, figsize= (10, 10))\n",
    "s2 = sns.scatterplot(ax = ax[0][1], x='tsne_1', y='tsne_2', hue='label', data=tsne_result_df,s=60, palette=sns.color_palette(\"hls\", 4))\n",
    "ax[0][1].set_xlim(-80,75)\n",
    "ax[0][1].set_ylim(-80,70)\n",
    "ax[0][1].set_title('Ex 4')\n",
    "s2.get_legend().remove()\n",
    "s2.set(xlabel=None)\n",
    "s2.set(ylabel=None)\n",
    "\n",
    "tsne = TSNE(n_components = 2, perplexity = 8, verbose = 0, random_state =42)\n",
    "tsne_result_3 = tsne.fit_transform(X3)\n",
    "tsne_result_df = pd.DataFrame({'tsne_1': tsne_result_3[:,0], 'tsne_2': tsne_result_3[:,1], 'label': labels3})\n",
    "# fig, ax = plt.subplots(3,3, figsize= (10, 10))\n",
    "s3 = sns.scatterplot(ax = ax[0][2], x='tsne_1', y='tsne_2', hue='label', data=tsne_result_df,s=60, palette=sns.color_palette(\"hls\", 4),)\n",
    "ax[0][2].set_xlim(-65,75)\n",
    "ax[0][2].set_ylim(-70,65)\n",
    "ax[0][2].set_title('Ex 3')\n",
    "# lim = (tsne_result3.min()-5, tsne_result3.max()+5)\n",
    "# ax[0][2].set_xlim(lim)\n",
    "# ax[0][2].set_ylim(lim)\n",
    "s3.get_legend().remove()\n",
    "s3.set(xlabel=None)\n",
    "s3.set(ylabel=None)\n",
    "\n",
    "tsne = TSNE(n_components = 2, perplexity = 5, verbose = 0, random_state =42)\n",
    "tsne_result_2 = tsne.fit_transform(X2)\n",
    "tsne_result_df = pd.DataFrame({'tsne_1': tsne_result_2[:,0], 'tsne_2': tsne_result_2[:,1], 'label': labels2})\n",
    "# fig, ax = plt.subplots(3,3, figsize= (10, 10))\n",
    "s4 = sns.scatterplot(ax = ax[0][3], x='tsne_1', y='tsne_2', hue='label', data=tsne_result_df,s=60, palette=sns.color_palette(\"hls\", 4),)\n",
    "ax[0][3].set_xlim(-80,90)\n",
    "ax[0][3].set_ylim(-75,80)\n",
    "ax[0][3].set_title('Ex 2')\n",
    "s4.get_legend().remove()\n",
    "s4.set(xlabel=None)\n",
    "s4.set(ylabel=None)\n",
    "\n",
    "tsne = TSNE(n_components = 2, perplexity = 5, verbose = 0, random_state =42)\n",
    "tsne_result_1 = tsne.fit_transform(X1)\n",
    "tsne_result_df = pd.DataFrame({'tsne_1': tsne_result_1[:,0], 'tsne_2': tsne_result_1[:,1], 'label': labels1})\n",
    "# fig, ax = plt.subplots(3,3, figsize= (10, 10))\n",
    "s5 = sns.scatterplot(ax = ax[0][4], x='tsne_1', y='tsne_2', hue='label', data=tsne_result_df,s=60, palette=sns.color_palette(\"hls\", 4),)\n",
    "ax[0][4].set_xlim(-75,80)\n",
    "ax[0][4].set_ylim(-75,85)\n",
    "ax[0][4].set_title('Ex 1')\n",
    "s5.get_legend().remove()\n",
    "s5.set(xlabel=None)\n",
    "s5.set(ylabel=None)\n",
    "ax[0][4].legend(bbox_to_anchor=(1.05, 1), loc=2, borderaxespad=0.0)\n",
    "\n",
    "### attention####\n",
    "\n",
    "\n",
    "tsne_result_df = pd.DataFrame({'tsne_1': tsne_result5[:,0], 'tsne_2': tsne_result5[:,1], 'label': l5})\n",
    "# fig, ax = plt.subplots(3,3, figsize= (10, 10))\n",
    "a5 = sns.scatterplot(ax = ax[1][0], x='tsne_1', y='tsne_2', hue='label', data=tsne_result_df,s=60, palette=sns.color_palette(\"icefire_r\", 3),)\n",
    "ax[1][0].set_xlim(-75,80)\n",
    "ax[1][0].set_ylim(-75,50)\n",
    "a5.get_legend().remove()\n",
    "a5.set(xlabel=None)\n",
    "a5.set(ylabel=None)\n",
    "ax[1][0].set_title('Ex 5')\n",
    "\n",
    "tsne_result_df = pd.DataFrame({'tsne_1': tsne_result4[:,0], 'tsne_2': tsne_result4[:,1], 'label': l4})\n",
    "# fig, ax = plt.subplots(3,3, figsize= (10, 10))\n",
    "a4 = sns.scatterplot(ax = ax[1][1], x='tsne_1', y='tsne_2', hue='label', data=tsne_result_df,s=60, palette=sns.color_palette(\"icefire_r\", 3),)\n",
    "ax[1][1].set_xlim(-75,80)\n",
    "ax[1][1].set_ylim(-75,70)\n",
    "a4.get_legend().remove()\n",
    "a4.set(xlabel=None)\n",
    "a4.set(ylabel=None)\n",
    "ax[1][1].set_title('Ex 4')\n",
    "\n",
    "tsne_result_df = pd.DataFrame({'tsne_1': tsne_result3[:,0], 'tsne_2': tsne_result3[:,1], 'label': l3})\n",
    "# fig, ax = plt.subplots(3,3, figsize= (10, 10))\n",
    "a3 = sns.scatterplot(ax = ax[1][2], x='tsne_1', y='tsne_2', hue='label', data=tsne_result_df,s=60, palette=sns.color_palette(\"icefire_r\", 3),)\n",
    "ax[1][2].set_xlim(-90,80)\n",
    "ax[1][2].set_ylim(-75,60)\n",
    "a3.get_legend().remove()\n",
    "a3.set(xlabel=None)\n",
    "a3.set(ylabel=None)\n",
    "ax[1][2].set_title('Ex 3')\n",
    "\n",
    "tsne_result_df = pd.DataFrame({'tsne_1': tsne_result2[:,0], 'tsne_2': tsne_result2[:,1], 'label': l2})\n",
    "# fig, ax = plt.subplots(3,3, figsize= (10, 10))\n",
    "a2 = sns.scatterplot(ax = ax[1][3], x='tsne_1', y='tsne_2', hue='label', data=tsne_result_df,s=60, palette=sns.color_palette(\"icefire_r\", 3),)\n",
    "ax[1][3].set_xlim(-90,80)\n",
    "ax[1][3].set_ylim(-75,70)\n",
    "a2.get_legend().remove()\n",
    "a2.set(xlabel=None)\n",
    "a2.set(ylabel=None)\n",
    "ax[1][3].set_title('Ex 2')\n",
    "\n",
    "l1 = torch.load('y1_attention.pt')\n",
    "for i in range(len(l1)):\n",
    "    if l1[i] == 1:\n",
    "        l1[i] = 'Attention Head 1'\n",
    "    elif l1[i] == 3:\n",
    "        l1[i] = 'Attention Head 2'\n",
    "    elif l1[i] == 5:\n",
    "        l1[i] = 'Attention Head 3'\n",
    "\n",
    "tsne_result_df = pd.DataFrame({'tsne_1': tsne_result1[:,0], 'tsne_2': tsne_result1[:,1], 'label': l1})\n",
    "# fig, ax = plt.subplots(3,3, figsize= (10, 10))\n",
    "a1= sns.scatterplot(ax = ax[1][4], x='tsne_1', y='tsne_2', hue='label', data=tsne_result_df,s=60, palette=sns.color_palette(\"icefire_r\", 3),)\n",
    "ax[1][4].set_xlim(-90,90)\n",
    "ax[1][4].set_ylim(-90,85)\n",
    "a1.get_legend().remove()\n",
    "a1.set(xlabel=None)\n",
    "a1.set(ylabel=None)\n",
    "ax[1][4].set_title('Ex 1')\n",
    "ax[1][4].legend(bbox_to_anchor=(1.05, 1), loc=2, borderaxespad=0.0)\n",
    "\n",
    "\n",
    "plt.subplots_adjust(left=None, bottom= None, right=None, top=None, wspace=None, hspace=0.5)\n",
    "\n",
    "plt.figtext(0.5,0.51, \"(a) t-SNE visualization of outputs from different layers of the architecture\", ha=\"center\", va=\"top\", fontsize=16)\n",
    "plt.figtext(0.5,0.07, \"(b) t-SNE visualization of outputs from different 3 different attention heads in the first transformer layer that provide attention to important joints in each frame.\", ha=\"center\", va=\"top\", fontsize=16, )\n",
    "plt.savefig(\".\\\\TSNE.pdf\", format = 'pdf', dpi = 400)"
   ]
  },
  {
   "cell_type": "code",
   "execution_count": 3,
   "id": "11363481",
   "metadata": {},
   "outputs": [
    {
     "data": {
      "text/plain": [
       "torch.Size([300, 256])"
      ]
     },
     "execution_count": 3,
     "metadata": {},
     "output_type": "execute_result"
    }
   ],
   "source": [
    "X5.shape"
   ]
  },
  {
   "cell_type": "code",
   "execution_count": 74,
   "id": "e1a8b976",
   "metadata": {},
   "outputs": [
    {
     "name": "stderr",
     "output_type": "stream",
     "text": [
      "c:\\users\\acer\\appdata\\local\\programs\\python\\python39\\lib\\site-packages\\sklearn\\manifold\\_t_sne.py:795: FutureWarning:\n",
      "\n",
      "The default initialization in TSNE will change from 'random' to 'pca' in 1.2.\n",
      "\n",
      "c:\\users\\acer\\appdata\\local\\programs\\python\\python39\\lib\\site-packages\\sklearn\\manifold\\_t_sne.py:805: FutureWarning:\n",
      "\n",
      "The default learning rate in TSNE will change from 200.0 to 'auto' in 1.2.\n",
      "\n"
     ]
    },
    {
     "data": {
      "application/vnd.plotly.v1+json": {
       "config": {
        "plotlyServerURL": "https://plot.ly"
       },
       "data": [
        {
         "hovertemplate": "x=%{x}<br>y=%{y}<br>color=%{marker.color}<extra></extra>",
         "legendgroup": "",
         "marker": {
          "color": [
           0,
           0,
           0,
           0,
           0,
           0,
           0,
           0,
           0,
           0,
           0,
           0,
           0,
           0,
           0,
           0,
           0,
           0,
           0,
           0,
           0,
           0,
           0,
           0,
           0,
           0,
           0,
           0,
           0,
           0,
           0,
           0,
           0,
           0,
           0,
           0,
           0,
           0,
           0,
           0,
           0,
           0,
           0,
           0,
           0,
           0,
           0,
           0,
           0,
           0,
           0,
           0,
           0,
           0,
           0,
           0,
           0,
           0,
           0,
           0,
           0,
           0,
           0,
           0,
           0,
           0,
           0,
           0,
           0,
           0,
           0,
           0,
           0,
           0,
           0,
           1,
           1,
           1,
           1,
           1,
           1,
           1,
           1,
           1,
           1,
           1,
           1,
           1,
           1,
           1,
           1,
           1,
           1,
           1,
           1,
           1,
           1,
           1,
           1,
           1,
           1,
           1,
           1,
           1,
           1,
           1,
           1,
           1,
           1,
           1,
           1,
           1,
           1,
           1,
           1,
           1,
           1,
           1,
           1,
           1,
           1,
           1,
           1,
           1,
           1,
           1,
           1,
           1,
           1,
           1,
           1,
           1,
           1,
           1,
           1,
           1,
           1,
           1,
           1,
           1,
           1,
           1,
           1,
           1,
           1,
           1,
           1,
           1,
           1,
           1,
           2,
           2,
           2,
           2,
           2,
           2,
           2,
           2,
           2,
           2,
           2,
           2,
           2,
           2,
           2,
           2,
           2,
           2,
           2,
           2,
           2,
           2,
           2,
           2,
           2,
           2,
           2,
           2,
           2,
           2,
           2,
           2,
           2,
           2,
           2,
           2,
           2,
           2,
           2,
           2,
           2,
           2,
           2,
           2,
           2,
           2,
           2,
           2,
           2,
           2,
           2,
           2,
           2,
           2,
           2,
           2,
           2,
           2,
           2,
           2,
           2,
           2,
           2,
           2,
           2,
           2,
           2,
           2,
           2,
           2,
           2,
           2,
           2,
           2,
           2,
           3,
           3,
           3,
           3,
           3,
           3,
           3,
           3,
           3,
           3,
           3,
           3,
           3,
           3,
           3,
           3,
           3,
           3,
           3,
           3,
           3,
           3,
           3,
           3,
           3,
           3,
           3,
           3,
           3,
           3,
           3,
           3,
           3,
           3,
           3,
           3,
           3,
           3,
           3,
           3,
           3,
           3,
           3,
           3,
           3,
           3,
           3,
           3,
           3,
           3,
           3,
           3,
           3,
           3,
           3,
           3,
           3,
           3,
           3,
           3,
           3,
           3,
           3,
           3,
           3,
           3,
           3,
           3,
           3,
           3,
           3,
           3,
           3,
           3,
           3
          ],
          "coloraxis": "coloraxis",
          "opacity": 0.8,
          "symbol": "circle"
         },
         "mode": "markers",
         "name": "",
         "orientation": "v",
         "showlegend": false,
         "type": "scatter",
         "x": [
          -0.9691275358200073,
          3.587416648864746,
          4.568654537200928,
          -0.8560540080070496,
          4.517705917358398,
          1.454291582107544,
          3.8817849159240723,
          2.3045170307159424,
          1.4557112455368042,
          2.7391200065612793,
          -0.4273366332054138,
          -0.7376872897148132,
          1.4469232559204102,
          0.10058365017175674,
          -1.1817072629928589,
          3.436882972717285,
          4.673654079437256,
          2.894604206085205,
          5.023595809936523,
          4.174131870269775,
          2.704071283340454,
          3.1960322856903076,
          5.84977912902832,
          3.5941028594970703,
          0.27741825580596924,
          3.784200668334961,
          3.594467878341675,
          6.019768714904785,
          0.28374430537223816,
          3.2922143936157227,
          0.44930386543273926,
          3.4570138454437256,
          -0.38565415143966675,
          3.603809118270874,
          1.0711604356765747,
          4.688122749328613,
          -0.41871532797813416,
          4.4368157386779785,
          6.02479362487793,
          4.741623401641846,
          2.5028464794158936,
          3.2880117893218994,
          2.5001163482666016,
          0.19990137219429016,
          0.13380169868469238,
          -0.2390485554933548,
          0.4547571539878845,
          4.006061553955078,
          2.6941654682159424,
          3.0367331504821777,
          3.5272443294525146,
          6.032462120056152,
          2.730565071105957,
          2.049398183822632,
          0.3216971457004547,
          0.1867334097623825,
          4.453371047973633,
          3.5824062824249268,
          0.42531058192253113,
          2.961273193359375,
          4.925281524658203,
          -0.5405462384223938,
          2.223475933074951,
          -0.6280112862586975,
          -0.14794006943702698,
          -1.1098134517669678,
          2.329376459121704,
          2.459772825241089,
          2.715609550476074,
          3.2302372455596924,
          5.078744411468506,
          3.502030849456787,
          -0.845784068107605,
          1.3935773372650146,
          -0.4179464280605316,
          8.31462574005127,
          3.098924398422241,
          5.161038875579834,
          7.509444713592529,
          5.960117816925049,
          6.681897163391113,
          4.210716247558594,
          4.441897392272949,
          6.328534126281738,
          4.267233848571777,
          7.762052059173584,
          7.881649494171143,
          6.457912921905518,
          7.239048004150391,
          9.279603004455566,
          5.185633659362793,
          5.433143615722656,
          5.932363033294678,
          3.7509500980377197,
          5.083912372589111,
          4.300684452056885,
          2.5903563499450684,
          5.9148430824279785,
          4.118309020996094,
          6.465171813964844,
          5.059101581573486,
          2.1672110557556152,
          2.4756648540496826,
          6.4979448318481445,
          4.384984493255615,
          7.972175598144531,
          4.434891223907471,
          5.841496467590332,
          5.534411430358887,
          7.739178657531738,
          5.662713527679443,
          5.828701496124268,
          5.943487167358398,
          2.507387399673462,
          6.023510456085205,
          3.8710501194000244,
          4.9193596839904785,
          3.9345428943634033,
          9.496667861938477,
          8.412617683410645,
          8.8499174118042,
          9.26607608795166,
          4.902585983276367,
          4.353857040405273,
          6.226646900177002,
          4.680832386016846,
          2.4923832416534424,
          4.784248352050781,
          5.029788970947266,
          9.519144058227539,
          6.470047473907471,
          5.833475589752197,
          5.548364639282227,
          4.035952091217041,
          2.8909902572631836,
          4.018071174621582,
          7.454412937164307,
          2.337698459625244,
          8.092728614807129,
          7.134101390838623,
          9.44904899597168,
          4.487545490264893,
          3.3143582344055176,
          4.302857398986816,
          4.371612071990967,
          5.559056282043457,
          5.027212619781494,
          7.5300517082214355,
          8.194601058959961,
          7.4331536293029785,
          -5.338704586029053,
          -6.567394256591797,
          -6.247714042663574,
          -6.120959758758545,
          11.211468696594238,
          -5.3790483474731445,
          -6.902151584625244,
          -3.623491048812866,
          9.156404495239258,
          10.213871002197266,
          -5.176331043243408,
          -5.312005996704102,
          9.200444221496582,
          -4.696831703186035,
          -5.499609470367432,
          10.232674598693848,
          9.352519989013672,
          10.20024299621582,
          -7.444009304046631,
          -5.748412132263184,
          -6.571749687194824,
          -3.9316444396972656,
          10.491901397705078,
          -6.993468761444092,
          -4.767369270324707,
          12.154814720153809,
          -4.737590312957764,
          -7.442250728607178,
          -4.770133972167969,
          -4.389410018920898,
          -6.129062175750732,
          -3.0943596363067627,
          12.142663955688477,
          -5.078319549560547,
          -6.251485347747803,
          9.355757713317871,
          12.198200225830078,
          11.239278793334961,
          -7.2863311767578125,
          11.15090560913086,
          -5.21455717086792,
          7.911296844482422,
          -5.328709125518799,
          -5.948401927947998,
          -6.315741062164307,
          -6.771525859832764,
          -6.097789764404297,
          -5.70819091796875,
          -6.395785808563232,
          -5.6541924476623535,
          -7.17149543762207,
          -7.322361946105957,
          -5.079904556274414,
          8.332466125488281,
          -6.104679584503174,
          9.394804954528809,
          12.100482940673828,
          -4.945083141326904,
          -4.439024448394775,
          -4.059678077697754,
          -7.337507724761963,
          -6.039523124694824,
          -5.951523780822754,
          -5.451252460479736,
          -4.969902515411377,
          -5.641136646270752,
          -4.406556129455566,
          -7.224711894989014,
          -6.54964542388916,
          -4.150672435760498,
          -5.167781352996826,
          8.08272933959961,
          -6.1082892417907715,
          -4.862886905670166,
          -6.131977081298828,
          -13.797560691833496,
          -13.967695236206055,
          -11.919902801513672,
          -13.646943092346191,
          13.121870040893555,
          -9.789498329162598,
          -12.4845552444458,
          -8.907410621643066,
          12.77376937866211,
          12.214570045471191,
          -12.38453197479248,
          -13.359597206115723,
          12.802196502685547,
          -11.462398529052734,
          -13.967453956604004,
          11.903340339660645,
          12.337472915649414,
          12.106231689453125,
          -12.095040321350098,
          -11.131144523620605,
          -12.767621994018555,
          -8.263915061950684,
          13.052711486816406,
          -13.119796752929688,
          -8.751523971557617,
          13.650530815124512,
          -9.574886322021484,
          -12.531725883483887,
          -8.74571418762207,
          -9.764376640319824,
          -14.49696159362793,
          -2.6444413661956787,
          13.620291709899902,
          -10.294005393981934,
          -14.47987174987793,
          12.36359691619873,
          13.65649127960205,
          13.07852554321289,
          -12.97023868560791,
          13.107616424560547,
          -10.830513000488281,
          12.209630966186523,
          -11.006360054016113,
          -13.955384254455566,
          -14.599825859069824,
          -11.937292098999023,
          -14.31572437286377,
          -10.491758346557617,
          -12.754667282104492,
          -12.338379859924316,
          -12.89808464050293,
          -12.682158470153809,
          -9.588406562805176,
          12.492530822753906,
          -14.213906288146973,
          12.679057121276855,
          13.627533912658691,
          -10.450200080871582,
          -8.936686515808105,
          -8.250937461853027,
          -12.18581771850586,
          -13.594609260559082,
          -11.368943214416504,
          -13.912874221801758,
          -12.91108512878418,
          -14.261780738830566,
          -8.74290657043457,
          -13.528576850891113,
          -13.146705627441406,
          -10.096332550048828,
          -9.856791496276855,
          12.475643157958984,
          -13.622570991516113,
          -10.239683151245117,
          -13.200032234191895
         ],
         "xaxis": "x",
         "y": [
          -8.632067680358887,
          -7.339615345001221,
          -7.897168159484863,
          -9.782136917114258,
          -6.68733024597168,
          -6.900006294250488,
          -7.216300964355469,
          -4.129852771759033,
          -6.746910095214844,
          -3.987328052520752,
          -7.773655414581299,
          -8.968605995178223,
          -6.587353706359863,
          -6.689967632293701,
          -8.958460807800293,
          -7.309759616851807,
          -6.311257839202881,
          -10.740864753723145,
          -7.481625556945801,
          -7.711432456970215,
          -6.8718414306640625,
          -10.782116889953613,
          -5.897856712341309,
          -8.198370933532715,
          -5.2795586585998535,
          -5.503180980682373,
          -10.678207397460938,
          -8.651107788085938,
          -5.353910446166992,
          -4.946542263031006,
          -9.362135887145996,
          -4.906867980957031,
          -5.255206108093262,
          -5.9330854415893555,
          -8.943660736083984,
          -5.768070697784424,
          -5.2275543212890625,
          -6.714060306549072,
          -8.646341323852539,
          -6.379776477813721,
          -4.0922980308532715,
          -7.029869556427002,
          -4.100789546966553,
          -8.769278526306152,
          -9.254551887512207,
          -8.886612892150879,
          -8.812817573547363,
          -8.116410255432129,
          -6.902091979980469,
          -8.197402000427246,
          -8.167256355285645,
          -8.660221099853516,
          -4.508672714233398,
          -5.4581122398376465,
          -8.720974922180176,
          -5.474424362182617,
          -6.577326774597168,
          -5.928413391113281,
          -4.6003217697143555,
          -10.787330627441406,
          -7.468622207641602,
          -9.698625564575195,
          -6.155150890350342,
          -8.822498321533203,
          -8.546875,
          -9.003113746643066,
          -4.109866142272949,
          -10.096226692199707,
          -6.812497138977051,
          -4.749059200286865,
          -6.399003028869629,
          -6.628628730773926,
          -9.794031143188477,
          -7.214935779571533,
          -9.684396743774414,
          2.747948169708252,
          0.6232526302337646,
          0.9024548530578613,
          -0.22903631627559662,
          0.22844673693180084,
          1.3951826095581055,
          0.2055128663778305,
          2.83451247215271,
          0.46185556054115295,
          3.3850386142730713,
          2.6591997146606445,
          2.313257932662964,
          0.8662410974502563,
          2.7753384113311768,
          2.373110055923462,
          -0.34365397691726685,
          0.5183262825012207,
          -2.103097915649414,
          0.5137547254562378,
          1.3333958387374878,
          1.0458552837371826,
          3.332146167755127,
          4.841707229614258,
          -0.04889044538140297,
          2.682504653930664,
          2.4090054035186768,
          3.197899580001831,
          -0.30732619762420654,
          2.6929116249084473,
          4.209236145019531,
          1.2993441820144653,
          3.8629820346832275,
          3.593165874481201,
          1.8287899494171143,
          0.8740701675415039,
          -0.5061291456222534,
          3.3777945041656494,
          0.35181793570518494,
          -0.28883928060531616,
          -0.03452349454164505,
          1.7603235244750977,
          -0.3265938460826874,
          1.732627511024475,
          1.3165309429168701,
          1.1650850772857666,
          1.1028847694396973,
          1.249354362487793,
          1.669763207435608,
          1.0515422821044922,
          2.0611727237701416,
          0.2029048353433609,
          -0.29357707500457764,
          2.0936691761016846,
          -1.9599816799163818,
          1.3151837587356567,
          -1.1586506366729736,
          0.46506020426750183,
          1.8213860988616943,
          -1.3479796648025513,
          3.2491776943206787,
          0.6380733251571655,
          -0.21729770302772522,
          1.193183183670044,
          2.4626736640930176,
          1.3638906478881836,
          2.322244167327881,
          2.7203121185302734,
          2.562052011489868,
          1.0486960411071777,
          4.256838798522949,
          1.0396642684936523,
          -0.4989416301250458,
          -0.3768429756164551,
          3.8227858543395996,
          -0.2889687120914459,
          -0.621432363986969,
          0.5406222343444824,
          4.143378734588623,
          2.2624785900115967,
          -6.073971748352051,
          7.542606353759766,
          3.221165895462036,
          7.387645244598389,
          -6.128969192504883,
          -2.8073132038116455,
          4.350956916809082,
          0.5208779573440552,
          -6.087741851806641,
          4.806543827056885,
          -0.8436176180839539,
          -2.707270622253418,
          -4.126984596252441,
          -2.7989718914031982,
          3.4700779914855957,
          5.837775230407715,
          3.3830692768096924,
          8.268914222717285,
          -6.169959545135498,
          2.19730281829834,
          8.690037727355957,
          -5.594108581542969,
          7.72002649307251,
          2.807297706604004,
          8.675566673278809,
          7.289865493774414,
          -0.7197157740592957,
          7.0801286697387695,
          -5.601362228393555,
          6.79910945892334,
          -0.4429243505001068,
          -4.162012577056885,
          -5.578620910644531,
          -6.049492359161377,
          2.9481914043426514,
          -6.097232818603516,
          6.237395286560059,
          -4.413265705108643,
          6.0619120597839355,
          -0.29057031869888306,
          -0.6003080010414124,
          4.347382068634033,
          -0.47955599427223206,
          6.759160995483398,
          3.505086660385132,
          4.117275238037109,
          2.3464324474334717,
          2.9424550533294678,
          7.69411039352417,
          -4.5071611404418945,
          -0.34406495094299316,
          -5.189342975616455,
          -5.646088123321533,
          6.67302942276001,
          8.148374557495117,
          8.500057220458984,
          3.4192306995391846,
          2.51361346244812,
          5.38598108291626,
          -0.7477485537528992,
          0.9765256643295288,
          -0.9472206234931946,
          8.369709968566895,
          1.8641918897628784,
          3.2294061183929443,
          7.0384840965271,
          7.380754470825195,
          -4.456881046295166,
          2.382847785949707,
          7.028946399688721,
          2.982574939727783,
          6.324918270111084,
          7.910168647766113,
          9.924211502075195,
          8.697999954223633,
          -8.952133178710938,
          10.65479850769043,
          9.16146469116211,
          10.953646659851074,
          -10.384262084960938,
          -10.421865463256836,
          10.419915199279785,
          7.168734550476074,
          -10.321171760559082,
          11.277125358581543,
          6.4143877029418945,
          -10.359810829162598,
          -9.84721851348877,
          -10.205801010131836,
          8.80187702178955,
          10.431530952453613,
          9.517987251281738,
          11.32165241241455,
          -9.780618667602539,
          8.503494262695312,
          11.89097785949707,
          -7.440567493438721,
          11.639835357666016,
          8.452274322509766,
          11.8805570602417,
          11.603056907653809,
          6.461400032043457,
          7.781414031982422,
          -7.527774333953857,
          10.964701652526855,
          7.029393196105957,
          -9.812798500061035,
          -7.441198825836182,
          -8.801105499267578,
          9.015792846679688,
          -9.015876770019531,
          11.233925819396973,
          -8.83383846282959,
          11.029935836791992,
          7.020793437957764,
          6.767099857330322,
          9.58173656463623,
          7.035802841186523,
          10.403940200805664,
          9.774024963378906,
          10.205307960510254,
          8.346278190612793,
          8.805882453918457,
          11.074716567993164,
          -9.328165054321289,
          7.195084095001221,
          -10.00735855102539,
          -7.536019802093506,
          11.256170272827148,
          11.493115425109863,
          11.511415481567383,
          8.883679389953613,
          9.172876358032227,
          10.185101509094238,
          6.423388481140137,
          6.902448654174805,
          6.291726112365723,
          11.291850090026855,
          8.07718276977539,
          9.558218955993652,
          11.714521408081055,
          10.850395202636719,
          -9.327454566955566,
          8.930387496948242,
          11.496877670288086,
          9.696194648742676
         ],
         "yaxis": "y"
        }
       ],
       "layout": {
        "coloraxis": {
         "colorbar": {
          "title": {
           "text": "color"
          }
         },
         "colorscale": [
          [
           0,
           "#0d0887"
          ],
          [
           0.1111111111111111,
           "#46039f"
          ],
          [
           0.2222222222222222,
           "#7201a8"
          ],
          [
           0.3333333333333333,
           "#9c179e"
          ],
          [
           0.4444444444444444,
           "#bd3786"
          ],
          [
           0.5555555555555556,
           "#d8576b"
          ],
          [
           0.6666666666666666,
           "#ed7953"
          ],
          [
           0.7777777777777778,
           "#fb9f3a"
          ],
          [
           0.8888888888888888,
           "#fdca26"
          ],
          [
           1,
           "#f0f921"
          ]
         ]
        },
        "legend": {
         "tracegroupgap": 0
        },
        "margin": {
         "t": 60
        },
        "paper_bgcolor": "rgba(0,0,0,0)",
        "plot_bgcolor": "rgba(0,0,0,0)",
        "template": {
         "data": {
          "bar": [
           {
            "error_x": {
             "color": "#2a3f5f"
            },
            "error_y": {
             "color": "#2a3f5f"
            },
            "marker": {
             "line": {
              "color": "#E5ECF6",
              "width": 0.5
             }
            },
            "type": "bar"
           }
          ],
          "barpolar": [
           {
            "marker": {
             "line": {
              "color": "#E5ECF6",
              "width": 0.5
             }
            },
            "type": "barpolar"
           }
          ],
          "carpet": [
           {
            "aaxis": {
             "endlinecolor": "#2a3f5f",
             "gridcolor": "white",
             "linecolor": "white",
             "minorgridcolor": "white",
             "startlinecolor": "#2a3f5f"
            },
            "baxis": {
             "endlinecolor": "#2a3f5f",
             "gridcolor": "white",
             "linecolor": "white",
             "minorgridcolor": "white",
             "startlinecolor": "#2a3f5f"
            },
            "type": "carpet"
           }
          ],
          "choropleth": [
           {
            "colorbar": {
             "outlinewidth": 0,
             "ticks": ""
            },
            "type": "choropleth"
           }
          ],
          "contour": [
           {
            "colorbar": {
             "outlinewidth": 0,
             "ticks": ""
            },
            "colorscale": [
             [
              0,
              "#0d0887"
             ],
             [
              0.1111111111111111,
              "#46039f"
             ],
             [
              0.2222222222222222,
              "#7201a8"
             ],
             [
              0.3333333333333333,
              "#9c179e"
             ],
             [
              0.4444444444444444,
              "#bd3786"
             ],
             [
              0.5555555555555556,
              "#d8576b"
             ],
             [
              0.6666666666666666,
              "#ed7953"
             ],
             [
              0.7777777777777778,
              "#fb9f3a"
             ],
             [
              0.8888888888888888,
              "#fdca26"
             ],
             [
              1,
              "#f0f921"
             ]
            ],
            "type": "contour"
           }
          ],
          "contourcarpet": [
           {
            "colorbar": {
             "outlinewidth": 0,
             "ticks": ""
            },
            "type": "contourcarpet"
           }
          ],
          "heatmap": [
           {
            "colorbar": {
             "outlinewidth": 0,
             "ticks": ""
            },
            "colorscale": [
             [
              0,
              "#0d0887"
             ],
             [
              0.1111111111111111,
              "#46039f"
             ],
             [
              0.2222222222222222,
              "#7201a8"
             ],
             [
              0.3333333333333333,
              "#9c179e"
             ],
             [
              0.4444444444444444,
              "#bd3786"
             ],
             [
              0.5555555555555556,
              "#d8576b"
             ],
             [
              0.6666666666666666,
              "#ed7953"
             ],
             [
              0.7777777777777778,
              "#fb9f3a"
             ],
             [
              0.8888888888888888,
              "#fdca26"
             ],
             [
              1,
              "#f0f921"
             ]
            ],
            "type": "heatmap"
           }
          ],
          "heatmapgl": [
           {
            "colorbar": {
             "outlinewidth": 0,
             "ticks": ""
            },
            "colorscale": [
             [
              0,
              "#0d0887"
             ],
             [
              0.1111111111111111,
              "#46039f"
             ],
             [
              0.2222222222222222,
              "#7201a8"
             ],
             [
              0.3333333333333333,
              "#9c179e"
             ],
             [
              0.4444444444444444,
              "#bd3786"
             ],
             [
              0.5555555555555556,
              "#d8576b"
             ],
             [
              0.6666666666666666,
              "#ed7953"
             ],
             [
              0.7777777777777778,
              "#fb9f3a"
             ],
             [
              0.8888888888888888,
              "#fdca26"
             ],
             [
              1,
              "#f0f921"
             ]
            ],
            "type": "heatmapgl"
           }
          ],
          "histogram": [
           {
            "marker": {
             "colorbar": {
              "outlinewidth": 0,
              "ticks": ""
             }
            },
            "type": "histogram"
           }
          ],
          "histogram2d": [
           {
            "colorbar": {
             "outlinewidth": 0,
             "ticks": ""
            },
            "colorscale": [
             [
              0,
              "#0d0887"
             ],
             [
              0.1111111111111111,
              "#46039f"
             ],
             [
              0.2222222222222222,
              "#7201a8"
             ],
             [
              0.3333333333333333,
              "#9c179e"
             ],
             [
              0.4444444444444444,
              "#bd3786"
             ],
             [
              0.5555555555555556,
              "#d8576b"
             ],
             [
              0.6666666666666666,
              "#ed7953"
             ],
             [
              0.7777777777777778,
              "#fb9f3a"
             ],
             [
              0.8888888888888888,
              "#fdca26"
             ],
             [
              1,
              "#f0f921"
             ]
            ],
            "type": "histogram2d"
           }
          ],
          "histogram2dcontour": [
           {
            "colorbar": {
             "outlinewidth": 0,
             "ticks": ""
            },
            "colorscale": [
             [
              0,
              "#0d0887"
             ],
             [
              0.1111111111111111,
              "#46039f"
             ],
             [
              0.2222222222222222,
              "#7201a8"
             ],
             [
              0.3333333333333333,
              "#9c179e"
             ],
             [
              0.4444444444444444,
              "#bd3786"
             ],
             [
              0.5555555555555556,
              "#d8576b"
             ],
             [
              0.6666666666666666,
              "#ed7953"
             ],
             [
              0.7777777777777778,
              "#fb9f3a"
             ],
             [
              0.8888888888888888,
              "#fdca26"
             ],
             [
              1,
              "#f0f921"
             ]
            ],
            "type": "histogram2dcontour"
           }
          ],
          "mesh3d": [
           {
            "colorbar": {
             "outlinewidth": 0,
             "ticks": ""
            },
            "type": "mesh3d"
           }
          ],
          "parcoords": [
           {
            "line": {
             "colorbar": {
              "outlinewidth": 0,
              "ticks": ""
             }
            },
            "type": "parcoords"
           }
          ],
          "pie": [
           {
            "automargin": true,
            "type": "pie"
           }
          ],
          "scatter": [
           {
            "marker": {
             "colorbar": {
              "outlinewidth": 0,
              "ticks": ""
             }
            },
            "type": "scatter"
           }
          ],
          "scatter3d": [
           {
            "line": {
             "colorbar": {
              "outlinewidth": 0,
              "ticks": ""
             }
            },
            "marker": {
             "colorbar": {
              "outlinewidth": 0,
              "ticks": ""
             }
            },
            "type": "scatter3d"
           }
          ],
          "scattercarpet": [
           {
            "marker": {
             "colorbar": {
              "outlinewidth": 0,
              "ticks": ""
             }
            },
            "type": "scattercarpet"
           }
          ],
          "scattergeo": [
           {
            "marker": {
             "colorbar": {
              "outlinewidth": 0,
              "ticks": ""
             }
            },
            "type": "scattergeo"
           }
          ],
          "scattergl": [
           {
            "marker": {
             "colorbar": {
              "outlinewidth": 0,
              "ticks": ""
             }
            },
            "type": "scattergl"
           }
          ],
          "scattermapbox": [
           {
            "marker": {
             "colorbar": {
              "outlinewidth": 0,
              "ticks": ""
             }
            },
            "type": "scattermapbox"
           }
          ],
          "scatterpolar": [
           {
            "marker": {
             "colorbar": {
              "outlinewidth": 0,
              "ticks": ""
             }
            },
            "type": "scatterpolar"
           }
          ],
          "scatterpolargl": [
           {
            "marker": {
             "colorbar": {
              "outlinewidth": 0,
              "ticks": ""
             }
            },
            "type": "scatterpolargl"
           }
          ],
          "scatterternary": [
           {
            "marker": {
             "colorbar": {
              "outlinewidth": 0,
              "ticks": ""
             }
            },
            "type": "scatterternary"
           }
          ],
          "surface": [
           {
            "colorbar": {
             "outlinewidth": 0,
             "ticks": ""
            },
            "colorscale": [
             [
              0,
              "#0d0887"
             ],
             [
              0.1111111111111111,
              "#46039f"
             ],
             [
              0.2222222222222222,
              "#7201a8"
             ],
             [
              0.3333333333333333,
              "#9c179e"
             ],
             [
              0.4444444444444444,
              "#bd3786"
             ],
             [
              0.5555555555555556,
              "#d8576b"
             ],
             [
              0.6666666666666666,
              "#ed7953"
             ],
             [
              0.7777777777777778,
              "#fb9f3a"
             ],
             [
              0.8888888888888888,
              "#fdca26"
             ],
             [
              1,
              "#f0f921"
             ]
            ],
            "type": "surface"
           }
          ],
          "table": [
           {
            "cells": {
             "fill": {
              "color": "#EBF0F8"
             },
             "line": {
              "color": "white"
             }
            },
            "header": {
             "fill": {
              "color": "#C8D4E3"
             },
             "line": {
              "color": "white"
             }
            },
            "type": "table"
           }
          ]
         },
         "layout": {
          "annotationdefaults": {
           "arrowcolor": "#2a3f5f",
           "arrowhead": 0,
           "arrowwidth": 1
          },
          "coloraxis": {
           "colorbar": {
            "outlinewidth": 0,
            "ticks": ""
           }
          },
          "colorscale": {
           "diverging": [
            [
             0,
             "#8e0152"
            ],
            [
             0.1,
             "#c51b7d"
            ],
            [
             0.2,
             "#de77ae"
            ],
            [
             0.3,
             "#f1b6da"
            ],
            [
             0.4,
             "#fde0ef"
            ],
            [
             0.5,
             "#f7f7f7"
            ],
            [
             0.6,
             "#e6f5d0"
            ],
            [
             0.7,
             "#b8e186"
            ],
            [
             0.8,
             "#7fbc41"
            ],
            [
             0.9,
             "#4d9221"
            ],
            [
             1,
             "#276419"
            ]
           ],
           "sequential": [
            [
             0,
             "#0d0887"
            ],
            [
             0.1111111111111111,
             "#46039f"
            ],
            [
             0.2222222222222222,
             "#7201a8"
            ],
            [
             0.3333333333333333,
             "#9c179e"
            ],
            [
             0.4444444444444444,
             "#bd3786"
            ],
            [
             0.5555555555555556,
             "#d8576b"
            ],
            [
             0.6666666666666666,
             "#ed7953"
            ],
            [
             0.7777777777777778,
             "#fb9f3a"
            ],
            [
             0.8888888888888888,
             "#fdca26"
            ],
            [
             1,
             "#f0f921"
            ]
           ],
           "sequentialminus": [
            [
             0,
             "#0d0887"
            ],
            [
             0.1111111111111111,
             "#46039f"
            ],
            [
             0.2222222222222222,
             "#7201a8"
            ],
            [
             0.3333333333333333,
             "#9c179e"
            ],
            [
             0.4444444444444444,
             "#bd3786"
            ],
            [
             0.5555555555555556,
             "#d8576b"
            ],
            [
             0.6666666666666666,
             "#ed7953"
            ],
            [
             0.7777777777777778,
             "#fb9f3a"
            ],
            [
             0.8888888888888888,
             "#fdca26"
            ],
            [
             1,
             "#f0f921"
            ]
           ]
          },
          "colorway": [
           "#636efa",
           "#EF553B",
           "#00cc96",
           "#ab63fa",
           "#FFA15A",
           "#19d3f3",
           "#FF6692",
           "#B6E880",
           "#FF97FF",
           "#FECB52"
          ],
          "font": {
           "color": "#2a3f5f"
          },
          "geo": {
           "bgcolor": "white",
           "lakecolor": "white",
           "landcolor": "#E5ECF6",
           "showlakes": true,
           "showland": true,
           "subunitcolor": "white"
          },
          "hoverlabel": {
           "align": "left"
          },
          "hovermode": "closest",
          "mapbox": {
           "style": "light"
          },
          "paper_bgcolor": "white",
          "plot_bgcolor": "#E5ECF6",
          "polar": {
           "angularaxis": {
            "gridcolor": "white",
            "linecolor": "white",
            "ticks": ""
           },
           "bgcolor": "#E5ECF6",
           "radialaxis": {
            "gridcolor": "white",
            "linecolor": "white",
            "ticks": ""
           }
          },
          "scene": {
           "xaxis": {
            "backgroundcolor": "#E5ECF6",
            "gridcolor": "white",
            "gridwidth": 2,
            "linecolor": "white",
            "showbackground": true,
            "ticks": "",
            "zerolinecolor": "white"
           },
           "yaxis": {
            "backgroundcolor": "#E5ECF6",
            "gridcolor": "white",
            "gridwidth": 2,
            "linecolor": "white",
            "showbackground": true,
            "ticks": "",
            "zerolinecolor": "white"
           },
           "zaxis": {
            "backgroundcolor": "#E5ECF6",
            "gridcolor": "white",
            "gridwidth": 2,
            "linecolor": "white",
            "showbackground": true,
            "ticks": "",
            "zerolinecolor": "white"
           }
          },
          "shapedefaults": {
           "line": {
            "color": "#2a3f5f"
           }
          },
          "ternary": {
           "aaxis": {
            "gridcolor": "white",
            "linecolor": "white",
            "ticks": ""
           },
           "baxis": {
            "gridcolor": "white",
            "linecolor": "white",
            "ticks": ""
           },
           "bgcolor": "#E5ECF6",
           "caxis": {
            "gridcolor": "white",
            "linecolor": "white",
            "ticks": ""
           }
          },
          "title": {
           "x": 0.05
          },
          "xaxis": {
           "automargin": true,
           "gridcolor": "white",
           "linecolor": "white",
           "ticks": "",
           "title": {
            "standoff": 15
           },
           "zerolinecolor": "white",
           "zerolinewidth": 2
          },
          "yaxis": {
           "automargin": true,
           "gridcolor": "white",
           "linecolor": "white",
           "ticks": "",
           "title": {
            "standoff": 15
           },
           "zerolinecolor": "white",
           "zerolinewidth": 2
          }
         }
        },
        "xaxis": {
         "anchor": "y",
         "domain": [
          0,
          1
         ],
         "title": {
          "text": "x"
         }
        },
        "yaxis": {
         "anchor": "x",
         "domain": [
          0,
          1
         ],
         "title": {
          "text": "y"
         }
        }
       }
      },
      "text/html": [
       "<div>                            <div id=\"e5248ff2-71f3-4808-a268-a9b0b976331b\" class=\"plotly-graph-div\" style=\"height:525px; width:100%;\"></div>            <script type=\"text/javascript\">                require([\"plotly\"], function(Plotly) {                    window.PLOTLYENV=window.PLOTLYENV || {};                                    if (document.getElementById(\"e5248ff2-71f3-4808-a268-a9b0b976331b\")) {                    Plotly.newPlot(                        \"e5248ff2-71f3-4808-a268-a9b0b976331b\",                        [{\"hovertemplate\": \"x=%{x}<br>y=%{y}<br>color=%{marker.color}<extra></extra>\", \"legendgroup\": \"\", \"marker\": {\"color\": [0, 0, 0, 0, 0, 0, 0, 0, 0, 0, 0, 0, 0, 0, 0, 0, 0, 0, 0, 0, 0, 0, 0, 0, 0, 0, 0, 0, 0, 0, 0, 0, 0, 0, 0, 0, 0, 0, 0, 0, 0, 0, 0, 0, 0, 0, 0, 0, 0, 0, 0, 0, 0, 0, 0, 0, 0, 0, 0, 0, 0, 0, 0, 0, 0, 0, 0, 0, 0, 0, 0, 0, 0, 0, 0, 1, 1, 1, 1, 1, 1, 1, 1, 1, 1, 1, 1, 1, 1, 1, 1, 1, 1, 1, 1, 1, 1, 1, 1, 1, 1, 1, 1, 1, 1, 1, 1, 1, 1, 1, 1, 1, 1, 1, 1, 1, 1, 1, 1, 1, 1, 1, 1, 1, 1, 1, 1, 1, 1, 1, 1, 1, 1, 1, 1, 1, 1, 1, 1, 1, 1, 1, 1, 1, 1, 1, 1, 1, 1, 1, 2, 2, 2, 2, 2, 2, 2, 2, 2, 2, 2, 2, 2, 2, 2, 2, 2, 2, 2, 2, 2, 2, 2, 2, 2, 2, 2, 2, 2, 2, 2, 2, 2, 2, 2, 2, 2, 2, 2, 2, 2, 2, 2, 2, 2, 2, 2, 2, 2, 2, 2, 2, 2, 2, 2, 2, 2, 2, 2, 2, 2, 2, 2, 2, 2, 2, 2, 2, 2, 2, 2, 2, 2, 2, 2, 3, 3, 3, 3, 3, 3, 3, 3, 3, 3, 3, 3, 3, 3, 3, 3, 3, 3, 3, 3, 3, 3, 3, 3, 3, 3, 3, 3, 3, 3, 3, 3, 3, 3, 3, 3, 3, 3, 3, 3, 3, 3, 3, 3, 3, 3, 3, 3, 3, 3, 3, 3, 3, 3, 3, 3, 3, 3, 3, 3, 3, 3, 3, 3, 3, 3, 3, 3, 3, 3, 3, 3, 3, 3, 3], \"coloraxis\": \"coloraxis\", \"opacity\": 0.8, \"symbol\": \"circle\"}, \"mode\": \"markers\", \"name\": \"\", \"orientation\": \"v\", \"showlegend\": false, \"type\": \"scatter\", \"x\": [-0.9691275358200073, 3.587416648864746, 4.568654537200928, -0.8560540080070496, 4.517705917358398, 1.454291582107544, 3.8817849159240723, 2.3045170307159424, 1.4557112455368042, 2.7391200065612793, -0.4273366332054138, -0.7376872897148132, 1.4469232559204102, 0.10058365017175674, -1.1817072629928589, 3.436882972717285, 4.673654079437256, 2.894604206085205, 5.023595809936523, 4.174131870269775, 2.704071283340454, 3.1960322856903076, 5.84977912902832, 3.5941028594970703, 0.27741825580596924, 3.784200668334961, 3.594467878341675, 6.019768714904785, 0.28374430537223816, 3.2922143936157227, 0.44930386543273926, 3.4570138454437256, -0.38565415143966675, 3.603809118270874, 1.0711604356765747, 4.688122749328613, -0.41871532797813416, 4.4368157386779785, 6.02479362487793, 4.741623401641846, 2.5028464794158936, 3.2880117893218994, 2.5001163482666016, 0.19990137219429016, 0.13380169868469238, -0.2390485554933548, 0.4547571539878845, 4.006061553955078, 2.6941654682159424, 3.0367331504821777, 3.5272443294525146, 6.032462120056152, 2.730565071105957, 2.049398183822632, 0.3216971457004547, 0.1867334097623825, 4.453371047973633, 3.5824062824249268, 0.42531058192253113, 2.961273193359375, 4.925281524658203, -0.5405462384223938, 2.223475933074951, -0.6280112862586975, -0.14794006943702698, -1.1098134517669678, 2.329376459121704, 2.459772825241089, 2.715609550476074, 3.2302372455596924, 5.078744411468506, 3.502030849456787, -0.845784068107605, 1.3935773372650146, -0.4179464280605316, 8.31462574005127, 3.098924398422241, 5.161038875579834, 7.509444713592529, 5.960117816925049, 6.681897163391113, 4.210716247558594, 4.441897392272949, 6.328534126281738, 4.267233848571777, 7.762052059173584, 7.881649494171143, 6.457912921905518, 7.239048004150391, 9.279603004455566, 5.185633659362793, 5.433143615722656, 5.932363033294678, 3.7509500980377197, 5.083912372589111, 4.300684452056885, 2.5903563499450684, 5.9148430824279785, 4.118309020996094, 6.465171813964844, 5.059101581573486, 2.1672110557556152, 2.4756648540496826, 6.4979448318481445, 4.384984493255615, 7.972175598144531, 4.434891223907471, 5.841496467590332, 5.534411430358887, 7.739178657531738, 5.662713527679443, 5.828701496124268, 5.943487167358398, 2.507387399673462, 6.023510456085205, 3.8710501194000244, 4.9193596839904785, 3.9345428943634033, 9.496667861938477, 8.412617683410645, 8.8499174118042, 9.26607608795166, 4.902585983276367, 4.353857040405273, 6.226646900177002, 4.680832386016846, 2.4923832416534424, 4.784248352050781, 5.029788970947266, 9.519144058227539, 6.470047473907471, 5.833475589752197, 5.548364639282227, 4.035952091217041, 2.8909902572631836, 4.018071174621582, 7.454412937164307, 2.337698459625244, 8.092728614807129, 7.134101390838623, 9.44904899597168, 4.487545490264893, 3.3143582344055176, 4.302857398986816, 4.371612071990967, 5.559056282043457, 5.027212619781494, 7.5300517082214355, 8.194601058959961, 7.4331536293029785, -5.338704586029053, -6.567394256591797, -6.247714042663574, -6.120959758758545, 11.211468696594238, -5.3790483474731445, -6.902151584625244, -3.623491048812866, 9.156404495239258, 10.213871002197266, -5.176331043243408, -5.312005996704102, 9.200444221496582, -4.696831703186035, -5.499609470367432, 10.232674598693848, 9.352519989013672, 10.20024299621582, -7.444009304046631, -5.748412132263184, -6.571749687194824, -3.9316444396972656, 10.491901397705078, -6.993468761444092, -4.767369270324707, 12.154814720153809, -4.737590312957764, -7.442250728607178, -4.770133972167969, -4.389410018920898, -6.129062175750732, -3.0943596363067627, 12.142663955688477, -5.078319549560547, -6.251485347747803, 9.355757713317871, 12.198200225830078, 11.239278793334961, -7.2863311767578125, 11.15090560913086, -5.21455717086792, 7.911296844482422, -5.328709125518799, -5.948401927947998, -6.315741062164307, -6.771525859832764, -6.097789764404297, -5.70819091796875, -6.395785808563232, -5.6541924476623535, -7.17149543762207, -7.322361946105957, -5.079904556274414, 8.332466125488281, -6.104679584503174, 9.394804954528809, 12.100482940673828, -4.945083141326904, -4.439024448394775, -4.059678077697754, -7.337507724761963, -6.039523124694824, -5.951523780822754, -5.451252460479736, -4.969902515411377, -5.641136646270752, -4.406556129455566, -7.224711894989014, -6.54964542388916, -4.150672435760498, -5.167781352996826, 8.08272933959961, -6.1082892417907715, -4.862886905670166, -6.131977081298828, -13.797560691833496, -13.967695236206055, -11.919902801513672, -13.646943092346191, 13.121870040893555, -9.789498329162598, -12.4845552444458, -8.907410621643066, 12.77376937866211, 12.214570045471191, -12.38453197479248, -13.359597206115723, 12.802196502685547, -11.462398529052734, -13.967453956604004, 11.903340339660645, 12.337472915649414, 12.106231689453125, -12.095040321350098, -11.131144523620605, -12.767621994018555, -8.263915061950684, 13.052711486816406, -13.119796752929688, -8.751523971557617, 13.650530815124512, -9.574886322021484, -12.531725883483887, -8.74571418762207, -9.764376640319824, -14.49696159362793, -2.6444413661956787, 13.620291709899902, -10.294005393981934, -14.47987174987793, 12.36359691619873, 13.65649127960205, 13.07852554321289, -12.97023868560791, 13.107616424560547, -10.830513000488281, 12.209630966186523, -11.006360054016113, -13.955384254455566, -14.599825859069824, -11.937292098999023, -14.31572437286377, -10.491758346557617, -12.754667282104492, -12.338379859924316, -12.89808464050293, -12.682158470153809, -9.588406562805176, 12.492530822753906, -14.213906288146973, 12.679057121276855, 13.627533912658691, -10.450200080871582, -8.936686515808105, -8.250937461853027, -12.18581771850586, -13.594609260559082, -11.368943214416504, -13.912874221801758, -12.91108512878418, -14.261780738830566, -8.74290657043457, -13.528576850891113, -13.146705627441406, -10.096332550048828, -9.856791496276855, 12.475643157958984, -13.622570991516113, -10.239683151245117, -13.200032234191895], \"xaxis\": \"x\", \"y\": [-8.632067680358887, -7.339615345001221, -7.897168159484863, -9.782136917114258, -6.68733024597168, -6.900006294250488, -7.216300964355469, -4.129852771759033, -6.746910095214844, -3.987328052520752, -7.773655414581299, -8.968605995178223, -6.587353706359863, -6.689967632293701, -8.958460807800293, -7.309759616851807, -6.311257839202881, -10.740864753723145, -7.481625556945801, -7.711432456970215, -6.8718414306640625, -10.782116889953613, -5.897856712341309, -8.198370933532715, -5.2795586585998535, -5.503180980682373, -10.678207397460938, -8.651107788085938, -5.353910446166992, -4.946542263031006, -9.362135887145996, -4.906867980957031, -5.255206108093262, -5.9330854415893555, -8.943660736083984, -5.768070697784424, -5.2275543212890625, -6.714060306549072, -8.646341323852539, -6.379776477813721, -4.0922980308532715, -7.029869556427002, -4.100789546966553, -8.769278526306152, -9.254551887512207, -8.886612892150879, -8.812817573547363, -8.116410255432129, -6.902091979980469, -8.197402000427246, -8.167256355285645, -8.660221099853516, -4.508672714233398, -5.4581122398376465, -8.720974922180176, -5.474424362182617, -6.577326774597168, -5.928413391113281, -4.6003217697143555, -10.787330627441406, -7.468622207641602, -9.698625564575195, -6.155150890350342, -8.822498321533203, -8.546875, -9.003113746643066, -4.109866142272949, -10.096226692199707, -6.812497138977051, -4.749059200286865, -6.399003028869629, -6.628628730773926, -9.794031143188477, -7.214935779571533, -9.684396743774414, 2.747948169708252, 0.6232526302337646, 0.9024548530578613, -0.22903631627559662, 0.22844673693180084, 1.3951826095581055, 0.2055128663778305, 2.83451247215271, 0.46185556054115295, 3.3850386142730713, 2.6591997146606445, 2.313257932662964, 0.8662410974502563, 2.7753384113311768, 2.373110055923462, -0.34365397691726685, 0.5183262825012207, -2.103097915649414, 0.5137547254562378, 1.3333958387374878, 1.0458552837371826, 3.332146167755127, 4.841707229614258, -0.04889044538140297, 2.682504653930664, 2.4090054035186768, 3.197899580001831, -0.30732619762420654, 2.6929116249084473, 4.209236145019531, 1.2993441820144653, 3.8629820346832275, 3.593165874481201, 1.8287899494171143, 0.8740701675415039, -0.5061291456222534, 3.3777945041656494, 0.35181793570518494, -0.28883928060531616, -0.03452349454164505, 1.7603235244750977, -0.3265938460826874, 1.732627511024475, 1.3165309429168701, 1.1650850772857666, 1.1028847694396973, 1.249354362487793, 1.669763207435608, 1.0515422821044922, 2.0611727237701416, 0.2029048353433609, -0.29357707500457764, 2.0936691761016846, -1.9599816799163818, 1.3151837587356567, -1.1586506366729736, 0.46506020426750183, 1.8213860988616943, -1.3479796648025513, 3.2491776943206787, 0.6380733251571655, -0.21729770302772522, 1.193183183670044, 2.4626736640930176, 1.3638906478881836, 2.322244167327881, 2.7203121185302734, 2.562052011489868, 1.0486960411071777, 4.256838798522949, 1.0396642684936523, -0.4989416301250458, -0.3768429756164551, 3.8227858543395996, -0.2889687120914459, -0.621432363986969, 0.5406222343444824, 4.143378734588623, 2.2624785900115967, -6.073971748352051, 7.542606353759766, 3.221165895462036, 7.387645244598389, -6.128969192504883, -2.8073132038116455, 4.350956916809082, 0.5208779573440552, -6.087741851806641, 4.806543827056885, -0.8436176180839539, -2.707270622253418, -4.126984596252441, -2.7989718914031982, 3.4700779914855957, 5.837775230407715, 3.3830692768096924, 8.268914222717285, -6.169959545135498, 2.19730281829834, 8.690037727355957, -5.594108581542969, 7.72002649307251, 2.807297706604004, 8.675566673278809, 7.289865493774414, -0.7197157740592957, 7.0801286697387695, -5.601362228393555, 6.79910945892334, -0.4429243505001068, -4.162012577056885, -5.578620910644531, -6.049492359161377, 2.9481914043426514, -6.097232818603516, 6.237395286560059, -4.413265705108643, 6.0619120597839355, -0.29057031869888306, -0.6003080010414124, 4.347382068634033, -0.47955599427223206, 6.759160995483398, 3.505086660385132, 4.117275238037109, 2.3464324474334717, 2.9424550533294678, 7.69411039352417, -4.5071611404418945, -0.34406495094299316, -5.189342975616455, -5.646088123321533, 6.67302942276001, 8.148374557495117, 8.500057220458984, 3.4192306995391846, 2.51361346244812, 5.38598108291626, -0.7477485537528992, 0.9765256643295288, -0.9472206234931946, 8.369709968566895, 1.8641918897628784, 3.2294061183929443, 7.0384840965271, 7.380754470825195, -4.456881046295166, 2.382847785949707, 7.028946399688721, 2.982574939727783, 6.324918270111084, 7.910168647766113, 9.924211502075195, 8.697999954223633, -8.952133178710938, 10.65479850769043, 9.16146469116211, 10.953646659851074, -10.384262084960938, -10.421865463256836, 10.419915199279785, 7.168734550476074, -10.321171760559082, 11.277125358581543, 6.4143877029418945, -10.359810829162598, -9.84721851348877, -10.205801010131836, 8.80187702178955, 10.431530952453613, 9.517987251281738, 11.32165241241455, -9.780618667602539, 8.503494262695312, 11.89097785949707, -7.440567493438721, 11.639835357666016, 8.452274322509766, 11.8805570602417, 11.603056907653809, 6.461400032043457, 7.781414031982422, -7.527774333953857, 10.964701652526855, 7.029393196105957, -9.812798500061035, -7.441198825836182, -8.801105499267578, 9.015792846679688, -9.015876770019531, 11.233925819396973, -8.83383846282959, 11.029935836791992, 7.020793437957764, 6.767099857330322, 9.58173656463623, 7.035802841186523, 10.403940200805664, 9.774024963378906, 10.205307960510254, 8.346278190612793, 8.805882453918457, 11.074716567993164, -9.328165054321289, 7.195084095001221, -10.00735855102539, -7.536019802093506, 11.256170272827148, 11.493115425109863, 11.511415481567383, 8.883679389953613, 9.172876358032227, 10.185101509094238, 6.423388481140137, 6.902448654174805, 6.291726112365723, 11.291850090026855, 8.07718276977539, 9.558218955993652, 11.714521408081055, 10.850395202636719, -9.327454566955566, 8.930387496948242, 11.496877670288086, 9.696194648742676], \"yaxis\": \"y\"}],                        {\"coloraxis\": {\"colorbar\": {\"title\": {\"text\": \"color\"}}, \"colorscale\": [[0.0, \"#0d0887\"], [0.1111111111111111, \"#46039f\"], [0.2222222222222222, \"#7201a8\"], [0.3333333333333333, \"#9c179e\"], [0.4444444444444444, \"#bd3786\"], [0.5555555555555556, \"#d8576b\"], [0.6666666666666666, \"#ed7953\"], [0.7777777777777778, \"#fb9f3a\"], [0.8888888888888888, \"#fdca26\"], [1.0, \"#f0f921\"]]}, \"legend\": {\"tracegroupgap\": 0}, \"margin\": {\"t\": 60}, \"paper_bgcolor\": \"rgba(0,0,0,0)\", \"plot_bgcolor\": \"rgba(0,0,0,0)\", \"template\": {\"data\": {\"bar\": [{\"error_x\": {\"color\": \"#2a3f5f\"}, \"error_y\": {\"color\": \"#2a3f5f\"}, \"marker\": {\"line\": {\"color\": \"#E5ECF6\", \"width\": 0.5}}, \"type\": \"bar\"}], \"barpolar\": [{\"marker\": {\"line\": {\"color\": \"#E5ECF6\", \"width\": 0.5}}, \"type\": \"barpolar\"}], \"carpet\": [{\"aaxis\": {\"endlinecolor\": \"#2a3f5f\", \"gridcolor\": \"white\", \"linecolor\": \"white\", \"minorgridcolor\": \"white\", \"startlinecolor\": \"#2a3f5f\"}, \"baxis\": {\"endlinecolor\": \"#2a3f5f\", \"gridcolor\": \"white\", \"linecolor\": \"white\", \"minorgridcolor\": \"white\", \"startlinecolor\": \"#2a3f5f\"}, \"type\": \"carpet\"}], \"choropleth\": [{\"colorbar\": {\"outlinewidth\": 0, \"ticks\": \"\"}, \"type\": \"choropleth\"}], \"contour\": [{\"colorbar\": {\"outlinewidth\": 0, \"ticks\": \"\"}, \"colorscale\": [[0.0, \"#0d0887\"], [0.1111111111111111, \"#46039f\"], [0.2222222222222222, \"#7201a8\"], [0.3333333333333333, \"#9c179e\"], [0.4444444444444444, \"#bd3786\"], [0.5555555555555556, \"#d8576b\"], [0.6666666666666666, \"#ed7953\"], [0.7777777777777778, \"#fb9f3a\"], [0.8888888888888888, \"#fdca26\"], [1.0, \"#f0f921\"]], \"type\": \"contour\"}], \"contourcarpet\": [{\"colorbar\": {\"outlinewidth\": 0, \"ticks\": \"\"}, \"type\": \"contourcarpet\"}], \"heatmap\": [{\"colorbar\": {\"outlinewidth\": 0, \"ticks\": \"\"}, \"colorscale\": [[0.0, \"#0d0887\"], [0.1111111111111111, \"#46039f\"], [0.2222222222222222, \"#7201a8\"], [0.3333333333333333, \"#9c179e\"], [0.4444444444444444, \"#bd3786\"], [0.5555555555555556, \"#d8576b\"], [0.6666666666666666, \"#ed7953\"], [0.7777777777777778, \"#fb9f3a\"], [0.8888888888888888, \"#fdca26\"], [1.0, \"#f0f921\"]], \"type\": \"heatmap\"}], \"heatmapgl\": [{\"colorbar\": {\"outlinewidth\": 0, \"ticks\": \"\"}, \"colorscale\": [[0.0, \"#0d0887\"], [0.1111111111111111, \"#46039f\"], [0.2222222222222222, \"#7201a8\"], [0.3333333333333333, \"#9c179e\"], [0.4444444444444444, \"#bd3786\"], [0.5555555555555556, \"#d8576b\"], [0.6666666666666666, \"#ed7953\"], [0.7777777777777778, \"#fb9f3a\"], [0.8888888888888888, \"#fdca26\"], [1.0, \"#f0f921\"]], \"type\": \"heatmapgl\"}], \"histogram\": [{\"marker\": {\"colorbar\": {\"outlinewidth\": 0, \"ticks\": \"\"}}, \"type\": \"histogram\"}], \"histogram2d\": [{\"colorbar\": {\"outlinewidth\": 0, \"ticks\": \"\"}, \"colorscale\": [[0.0, \"#0d0887\"], [0.1111111111111111, \"#46039f\"], [0.2222222222222222, \"#7201a8\"], [0.3333333333333333, \"#9c179e\"], [0.4444444444444444, \"#bd3786\"], [0.5555555555555556, \"#d8576b\"], [0.6666666666666666, \"#ed7953\"], [0.7777777777777778, \"#fb9f3a\"], [0.8888888888888888, \"#fdca26\"], [1.0, \"#f0f921\"]], \"type\": \"histogram2d\"}], \"histogram2dcontour\": [{\"colorbar\": {\"outlinewidth\": 0, \"ticks\": \"\"}, \"colorscale\": [[0.0, \"#0d0887\"], [0.1111111111111111, \"#46039f\"], [0.2222222222222222, \"#7201a8\"], [0.3333333333333333, \"#9c179e\"], [0.4444444444444444, \"#bd3786\"], [0.5555555555555556, \"#d8576b\"], [0.6666666666666666, \"#ed7953\"], [0.7777777777777778, \"#fb9f3a\"], [0.8888888888888888, \"#fdca26\"], [1.0, \"#f0f921\"]], \"type\": \"histogram2dcontour\"}], \"mesh3d\": [{\"colorbar\": {\"outlinewidth\": 0, \"ticks\": \"\"}, \"type\": \"mesh3d\"}], \"parcoords\": [{\"line\": {\"colorbar\": {\"outlinewidth\": 0, \"ticks\": \"\"}}, \"type\": \"parcoords\"}], \"pie\": [{\"automargin\": true, \"type\": \"pie\"}], \"scatter\": [{\"marker\": {\"colorbar\": {\"outlinewidth\": 0, \"ticks\": \"\"}}, \"type\": \"scatter\"}], \"scatter3d\": [{\"line\": {\"colorbar\": {\"outlinewidth\": 0, \"ticks\": \"\"}}, \"marker\": {\"colorbar\": {\"outlinewidth\": 0, \"ticks\": \"\"}}, \"type\": \"scatter3d\"}], \"scattercarpet\": [{\"marker\": {\"colorbar\": {\"outlinewidth\": 0, \"ticks\": \"\"}}, \"type\": \"scattercarpet\"}], \"scattergeo\": [{\"marker\": {\"colorbar\": {\"outlinewidth\": 0, \"ticks\": \"\"}}, \"type\": \"scattergeo\"}], \"scattergl\": [{\"marker\": {\"colorbar\": {\"outlinewidth\": 0, \"ticks\": \"\"}}, \"type\": \"scattergl\"}], \"scattermapbox\": [{\"marker\": {\"colorbar\": {\"outlinewidth\": 0, \"ticks\": \"\"}}, \"type\": \"scattermapbox\"}], \"scatterpolar\": [{\"marker\": {\"colorbar\": {\"outlinewidth\": 0, \"ticks\": \"\"}}, \"type\": \"scatterpolar\"}], \"scatterpolargl\": [{\"marker\": {\"colorbar\": {\"outlinewidth\": 0, \"ticks\": \"\"}}, \"type\": \"scatterpolargl\"}], \"scatterternary\": [{\"marker\": {\"colorbar\": {\"outlinewidth\": 0, \"ticks\": \"\"}}, \"type\": \"scatterternary\"}], \"surface\": [{\"colorbar\": {\"outlinewidth\": 0, \"ticks\": \"\"}, \"colorscale\": [[0.0, \"#0d0887\"], [0.1111111111111111, \"#46039f\"], [0.2222222222222222, \"#7201a8\"], [0.3333333333333333, \"#9c179e\"], [0.4444444444444444, \"#bd3786\"], [0.5555555555555556, \"#d8576b\"], [0.6666666666666666, \"#ed7953\"], [0.7777777777777778, \"#fb9f3a\"], [0.8888888888888888, \"#fdca26\"], [1.0, \"#f0f921\"]], \"type\": \"surface\"}], \"table\": [{\"cells\": {\"fill\": {\"color\": \"#EBF0F8\"}, \"line\": {\"color\": \"white\"}}, \"header\": {\"fill\": {\"color\": \"#C8D4E3\"}, \"line\": {\"color\": \"white\"}}, \"type\": \"table\"}]}, \"layout\": {\"annotationdefaults\": {\"arrowcolor\": \"#2a3f5f\", \"arrowhead\": 0, \"arrowwidth\": 1}, \"coloraxis\": {\"colorbar\": {\"outlinewidth\": 0, \"ticks\": \"\"}}, \"colorscale\": {\"diverging\": [[0, \"#8e0152\"], [0.1, \"#c51b7d\"], [0.2, \"#de77ae\"], [0.3, \"#f1b6da\"], [0.4, \"#fde0ef\"], [0.5, \"#f7f7f7\"], [0.6, \"#e6f5d0\"], [0.7, \"#b8e186\"], [0.8, \"#7fbc41\"], [0.9, \"#4d9221\"], [1, \"#276419\"]], \"sequential\": [[0.0, \"#0d0887\"], [0.1111111111111111, \"#46039f\"], [0.2222222222222222, \"#7201a8\"], [0.3333333333333333, \"#9c179e\"], [0.4444444444444444, \"#bd3786\"], [0.5555555555555556, \"#d8576b\"], [0.6666666666666666, \"#ed7953\"], [0.7777777777777778, \"#fb9f3a\"], [0.8888888888888888, \"#fdca26\"], [1.0, \"#f0f921\"]], \"sequentialminus\": [[0.0, \"#0d0887\"], [0.1111111111111111, \"#46039f\"], [0.2222222222222222, \"#7201a8\"], [0.3333333333333333, \"#9c179e\"], [0.4444444444444444, \"#bd3786\"], [0.5555555555555556, \"#d8576b\"], [0.6666666666666666, \"#ed7953\"], [0.7777777777777778, \"#fb9f3a\"], [0.8888888888888888, \"#fdca26\"], [1.0, \"#f0f921\"]]}, \"colorway\": [\"#636efa\", \"#EF553B\", \"#00cc96\", \"#ab63fa\", \"#FFA15A\", \"#19d3f3\", \"#FF6692\", \"#B6E880\", \"#FF97FF\", \"#FECB52\"], \"font\": {\"color\": \"#2a3f5f\"}, \"geo\": {\"bgcolor\": \"white\", \"lakecolor\": \"white\", \"landcolor\": \"#E5ECF6\", \"showlakes\": true, \"showland\": true, \"subunitcolor\": \"white\"}, \"hoverlabel\": {\"align\": \"left\"}, \"hovermode\": \"closest\", \"mapbox\": {\"style\": \"light\"}, \"paper_bgcolor\": \"white\", \"plot_bgcolor\": \"#E5ECF6\", \"polar\": {\"angularaxis\": {\"gridcolor\": \"white\", \"linecolor\": \"white\", \"ticks\": \"\"}, \"bgcolor\": \"#E5ECF6\", \"radialaxis\": {\"gridcolor\": \"white\", \"linecolor\": \"white\", \"ticks\": \"\"}}, \"scene\": {\"xaxis\": {\"backgroundcolor\": \"#E5ECF6\", \"gridcolor\": \"white\", \"gridwidth\": 2, \"linecolor\": \"white\", \"showbackground\": true, \"ticks\": \"\", \"zerolinecolor\": \"white\"}, \"yaxis\": {\"backgroundcolor\": \"#E5ECF6\", \"gridcolor\": \"white\", \"gridwidth\": 2, \"linecolor\": \"white\", \"showbackground\": true, \"ticks\": \"\", \"zerolinecolor\": \"white\"}, \"zaxis\": {\"backgroundcolor\": \"#E5ECF6\", \"gridcolor\": \"white\", \"gridwidth\": 2, \"linecolor\": \"white\", \"showbackground\": true, \"ticks\": \"\", \"zerolinecolor\": \"white\"}}, \"shapedefaults\": {\"line\": {\"color\": \"#2a3f5f\"}}, \"ternary\": {\"aaxis\": {\"gridcolor\": \"white\", \"linecolor\": \"white\", \"ticks\": \"\"}, \"baxis\": {\"gridcolor\": \"white\", \"linecolor\": \"white\", \"ticks\": \"\"}, \"bgcolor\": \"#E5ECF6\", \"caxis\": {\"gridcolor\": \"white\", \"linecolor\": \"white\", \"ticks\": \"\"}}, \"title\": {\"x\": 0.05}, \"xaxis\": {\"automargin\": true, \"gridcolor\": \"white\", \"linecolor\": \"white\", \"ticks\": \"\", \"title\": {\"standoff\": 15}, \"zerolinecolor\": \"white\", \"zerolinewidth\": 2}, \"yaxis\": {\"automargin\": true, \"gridcolor\": \"white\", \"linecolor\": \"white\", \"ticks\": \"\", \"title\": {\"standoff\": 15}, \"zerolinecolor\": \"white\", \"zerolinewidth\": 2}}}, \"xaxis\": {\"anchor\": \"y\", \"domain\": [0.0, 1.0], \"title\": {\"text\": \"x\"}}, \"yaxis\": {\"anchor\": \"x\", \"domain\": [0.0, 1.0], \"title\": {\"text\": \"y\"}}},                        {\"responsive\": true}                    ).then(function(){\n",
       "                            \n",
       "var gd = document.getElementById('e5248ff2-71f3-4808-a268-a9b0b976331b');\n",
       "var x = new MutationObserver(function (mutations, observer) {{\n",
       "        var display = window.getComputedStyle(gd).display;\n",
       "        if (!display || display === 'none') {{\n",
       "            console.log([gd, 'removed!']);\n",
       "            Plotly.purge(gd);\n",
       "            observer.disconnect();\n",
       "        }}\n",
       "}});\n",
       "\n",
       "// Listen for the removal of the full notebook cells\n",
       "var notebookContainer = gd.closest('#notebook-container');\n",
       "if (notebookContainer) {{\n",
       "    x.observe(notebookContainer, {childList: true});\n",
       "}}\n",
       "\n",
       "// Listen for the clearing of the current output cell\n",
       "var outputEl = gd.closest('.output');\n",
       "if (outputEl) {{\n",
       "    x.observe(outputEl, {childList: true});\n",
       "}}\n",
       "\n",
       "                        })                };                });            </script>        </div>"
      ]
     },
     "metadata": {},
     "output_type": "display_data"
    }
   ],
   "source": [
    "import plotly.express as px\n",
    "tsne = TSNE(n_components = 2, perplexity = 50, verbose = 0, random_state =42)\n",
    "tsne_result5 = tsne.fit_transform(X5)\n",
    "\n",
    "\n",
    "\n",
    "tsne_result_df = pd.DataFrame({'tsne_1': tsne_result5[:,0], 'tsne_2': tsne_result5[:,1], 'label': labels5})\n",
    "fig = px.scatter(x=tsne_result_df['tsne_1'], y=tsne_result_df['tsne_2'], color= tsne_result_df['label'], opacity=0.8)\n",
    "fig.update_layout(paper_bgcolor=\"rgba(0,0,0,0)\", plot_bgcolor=\"rgba(0,0,0,0)\")\n",
    "fig.show()"
   ]
  },
  {
   "cell_type": "code",
   "execution_count": null,
   "id": "1a6a2d5b",
   "metadata": {},
   "outputs": [],
   "source": []
  }
 ],
 "metadata": {
  "kernelspec": {
   "display_name": "Python 3 (ipykernel)",
   "language": "python",
   "name": "python3"
  },
  "language_info": {
   "codemirror_mode": {
    "name": "ipython",
    "version": 3
   },
   "file_extension": ".py",
   "mimetype": "text/x-python",
   "name": "python",
   "nbconvert_exporter": "python",
   "pygments_lexer": "ipython3",
   "version": "3.9.2"
  }
 },
 "nbformat": 4,
 "nbformat_minor": 5
}
